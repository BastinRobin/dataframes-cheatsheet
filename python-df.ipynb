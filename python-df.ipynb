{
 "metadata": {
  "name": "",
  "signature": "sha256:d578f21d531bb0315f767d6ebcaf0123b318b39b3928ea74f3fdc00388fc84a3"
 },
 "nbformat": 3,
 "nbformat_minor": 0,
 "worksheets": [
  {
   "cells": [
    {
     "cell_type": "code",
     "collapsed": false,
     "input": [
      "import pandas as pd\n",
      "u_col_names = ['user_id', 'age', 'sex', 'occuptation', 'zip_code']\n",
      "users = pd.read_csv('data/ml-100k/u.user', sep = '|', names=u_col_names)\n",
      "\n",
      "r_col_names = ['user_id', 'movie_id', 'rating', 'unix_timestamp']\n",
      "ratings = pd.read_csv('data/ml-100k/u.data', sep='\\t', names=r_col_names)\n",
      "\n",
      "# let's only load the first five columns of the file with usecols\n",
      "m_col_names = ['movie_id', 'title', 'release_date', 'video_release_date', 'imdb_url']\n",
      "movies = pd.read_csv('data/ml-100k/u.item', sep='|', names=m_col_names, usecols=range(5))"
     ],
     "language": "python",
     "metadata": {},
     "outputs": [],
     "prompt_number": 2
    },
    {
     "cell_type": "code",
     "collapsed": false,
     "input": [
      "type(users)"
     ],
     "language": "python",
     "metadata": {},
     "outputs": [
      {
       "metadata": {},
       "output_type": "pyout",
       "prompt_number": 20,
       "text": [
        "pandas.core.frame.DataFrame"
       ]
      }
     ],
     "prompt_number": 20
    },
    {
     "cell_type": "code",
     "collapsed": false,
     "input": [
      "users.dtypes"
     ],
     "language": "python",
     "metadata": {},
     "outputs": [
      {
       "metadata": {},
       "output_type": "pyout",
       "prompt_number": 19,
       "text": [
        "user_id         int64\n",
        "age             int64\n",
        "sex            object\n",
        "occuptation    object\n",
        "zip_code       object\n",
        "dtype: object"
       ]
      }
     ],
     "prompt_number": 19
    },
    {
     "cell_type": "code",
     "collapsed": false,
     "input": [
      "users.describe()"
     ],
     "language": "python",
     "metadata": {},
     "outputs": [
      {
       "html": [
        "<div style=\"max-height:1000px;max-width:1500px;overflow:auto;\">\n",
        "<table border=\"1\" class=\"dataframe\">\n",
        "  <thead>\n",
        "    <tr style=\"text-align: right;\">\n",
        "      <th></th>\n",
        "      <th>user_id</th>\n",
        "      <th>age</th>\n",
        "    </tr>\n",
        "  </thead>\n",
        "  <tbody>\n",
        "    <tr>\n",
        "      <th>count</th>\n",
        "      <td> 943.000000</td>\n",
        "      <td> 943.000000</td>\n",
        "    </tr>\n",
        "    <tr>\n",
        "      <th>mean</th>\n",
        "      <td> 472.000000</td>\n",
        "      <td>  34.051962</td>\n",
        "    </tr>\n",
        "    <tr>\n",
        "      <th>std</th>\n",
        "      <td> 272.364951</td>\n",
        "      <td>  12.192740</td>\n",
        "    </tr>\n",
        "    <tr>\n",
        "      <th>min</th>\n",
        "      <td>   1.000000</td>\n",
        "      <td>   7.000000</td>\n",
        "    </tr>\n",
        "    <tr>\n",
        "      <th>25%</th>\n",
        "      <td> 236.500000</td>\n",
        "      <td>  25.000000</td>\n",
        "    </tr>\n",
        "    <tr>\n",
        "      <th>50%</th>\n",
        "      <td> 472.000000</td>\n",
        "      <td>  31.000000</td>\n",
        "    </tr>\n",
        "    <tr>\n",
        "      <th>75%</th>\n",
        "      <td> 707.500000</td>\n",
        "      <td>  43.000000</td>\n",
        "    </tr>\n",
        "    <tr>\n",
        "      <th>max</th>\n",
        "      <td> 943.000000</td>\n",
        "      <td>  73.000000</td>\n",
        "    </tr>\n",
        "  </tbody>\n",
        "</table>\n",
        "</div>"
       ],
       "metadata": {},
       "output_type": "pyout",
       "prompt_number": 21,
       "text": [
        "          user_id         age\n",
        "count  943.000000  943.000000\n",
        "mean   472.000000   34.051962\n",
        "std    272.364951   12.192740\n",
        "min      1.000000    7.000000\n",
        "25%    236.500000   25.000000\n",
        "50%    472.000000   31.000000\n",
        "75%    707.500000   43.000000\n",
        "max    943.000000   73.000000"
       ]
      }
     ],
     "prompt_number": 21
    },
    {
     "cell_type": "code",
     "collapsed": false,
     "input": [
      "movies.head()"
     ],
     "language": "python",
     "metadata": {},
     "outputs": [
      {
       "html": [
        "<div style=\"max-height:1000px;max-width:1500px;overflow:auto;\">\n",
        "<table border=\"1\" class=\"dataframe\">\n",
        "  <thead>\n",
        "    <tr style=\"text-align: right;\">\n",
        "      <th></th>\n",
        "      <th>movie_id</th>\n",
        "      <th>title</th>\n",
        "      <th>release_date</th>\n",
        "      <th>video_release_date</th>\n",
        "      <th>imdb_url</th>\n",
        "    </tr>\n",
        "  </thead>\n",
        "  <tbody>\n",
        "    <tr>\n",
        "      <th>0</th>\n",
        "      <td> 1</td>\n",
        "      <td>  Toy Story (1995)</td>\n",
        "      <td> 01-Jan-1995</td>\n",
        "      <td>NaN</td>\n",
        "      <td> http://us.imdb.com/M/title-exact?Toy%20Story%2...</td>\n",
        "    </tr>\n",
        "    <tr>\n",
        "      <th>1</th>\n",
        "      <td> 2</td>\n",
        "      <td>  GoldenEye (1995)</td>\n",
        "      <td> 01-Jan-1995</td>\n",
        "      <td>NaN</td>\n",
        "      <td> http://us.imdb.com/M/title-exact?GoldenEye%20(...</td>\n",
        "    </tr>\n",
        "    <tr>\n",
        "      <th>2</th>\n",
        "      <td> 3</td>\n",
        "      <td> Four Rooms (1995)</td>\n",
        "      <td> 01-Jan-1995</td>\n",
        "      <td>NaN</td>\n",
        "      <td> http://us.imdb.com/M/title-exact?Four%20Rooms%...</td>\n",
        "    </tr>\n",
        "    <tr>\n",
        "      <th>3</th>\n",
        "      <td> 4</td>\n",
        "      <td> Get Shorty (1995)</td>\n",
        "      <td> 01-Jan-1995</td>\n",
        "      <td>NaN</td>\n",
        "      <td> http://us.imdb.com/M/title-exact?Get%20Shorty%...</td>\n",
        "    </tr>\n",
        "    <tr>\n",
        "      <th>4</th>\n",
        "      <td> 5</td>\n",
        "      <td>    Copycat (1995)</td>\n",
        "      <td> 01-Jan-1995</td>\n",
        "      <td>NaN</td>\n",
        "      <td> http://us.imdb.com/M/title-exact?Copycat%20(1995)</td>\n",
        "    </tr>\n",
        "  </tbody>\n",
        "</table>\n",
        "</div>"
       ],
       "metadata": {},
       "output_type": "pyout",
       "prompt_number": 6,
       "text": [
        "   movie_id              title release_date  video_release_date  \\\n",
        "0         1   Toy Story (1995)  01-Jan-1995                 NaN   \n",
        "1         2   GoldenEye (1995)  01-Jan-1995                 NaN   \n",
        "2         3  Four Rooms (1995)  01-Jan-1995                 NaN   \n",
        "3         4  Get Shorty (1995)  01-Jan-1995                 NaN   \n",
        "4         5     Copycat (1995)  01-Jan-1995                 NaN   \n",
        "\n",
        "                                            imdb_url  \n",
        "0  http://us.imdb.com/M/title-exact?Toy%20Story%2...  \n",
        "1  http://us.imdb.com/M/title-exact?GoldenEye%20(...  \n",
        "2  http://us.imdb.com/M/title-exact?Four%20Rooms%...  \n",
        "3  http://us.imdb.com/M/title-exact?Get%20Shorty%...  \n",
        "4  http://us.imdb.com/M/title-exact?Copycat%20(1995)  "
       ]
      }
     ],
     "prompt_number": 6
    },
    {
     "cell_type": "code",
     "collapsed": false,
     "input": [
      "movies.tail()"
     ],
     "language": "python",
     "metadata": {},
     "outputs": [
      {
       "html": [
        "<div style=\"max-height:1000px;max-width:1500px;overflow:auto;\">\n",
        "<table border=\"1\" class=\"dataframe\">\n",
        "  <thead>\n",
        "    <tr style=\"text-align: right;\">\n",
        "      <th></th>\n",
        "      <th>movie_id</th>\n",
        "      <th>title</th>\n",
        "      <th>release_date</th>\n",
        "      <th>video_release_date</th>\n",
        "      <th>imdb_url</th>\n",
        "    </tr>\n",
        "  </thead>\n",
        "  <tbody>\n",
        "    <tr>\n",
        "      <th>1677</th>\n",
        "      <td> 1678</td>\n",
        "      <td>                         Mat' i syn (1997)</td>\n",
        "      <td> 06-Feb-1998</td>\n",
        "      <td>NaN</td>\n",
        "      <td> http://us.imdb.com/M/title-exact?Mat%27+i+syn+...</td>\n",
        "    </tr>\n",
        "    <tr>\n",
        "      <th>1678</th>\n",
        "      <td> 1679</td>\n",
        "      <td>                          B. Monkey (1998)</td>\n",
        "      <td> 06-Feb-1998</td>\n",
        "      <td>NaN</td>\n",
        "      <td> http://us.imdb.com/M/title-exact?B%2E+Monkey+(...</td>\n",
        "    </tr>\n",
        "    <tr>\n",
        "      <th>1679</th>\n",
        "      <td> 1680</td>\n",
        "      <td>                      Sliding Doors (1998)</td>\n",
        "      <td> 01-Jan-1998</td>\n",
        "      <td>NaN</td>\n",
        "      <td>     http://us.imdb.com/Title?Sliding+Doors+(1998)</td>\n",
        "    </tr>\n",
        "    <tr>\n",
        "      <th>1680</th>\n",
        "      <td> 1681</td>\n",
        "      <td>                       You So Crazy (1994)</td>\n",
        "      <td> 01-Jan-1994</td>\n",
        "      <td>NaN</td>\n",
        "      <td> http://us.imdb.com/M/title-exact?You%20So%20Cr...</td>\n",
        "    </tr>\n",
        "    <tr>\n",
        "      <th>1681</th>\n",
        "      <td> 1682</td>\n",
        "      <td> Scream of Stone (Schrei aus Stein) (1991)</td>\n",
        "      <td> 08-Mar-1996</td>\n",
        "      <td>NaN</td>\n",
        "      <td> http://us.imdb.com/M/title-exact?Schrei%20aus%...</td>\n",
        "    </tr>\n",
        "  </tbody>\n",
        "</table>\n",
        "</div>"
       ],
       "metadata": {},
       "output_type": "pyout",
       "prompt_number": 7,
       "text": [
        "      movie_id                                      title release_date  \\\n",
        "1677      1678                          Mat' i syn (1997)  06-Feb-1998   \n",
        "1678      1679                           B. Monkey (1998)  06-Feb-1998   \n",
        "1679      1680                       Sliding Doors (1998)  01-Jan-1998   \n",
        "1680      1681                        You So Crazy (1994)  01-Jan-1994   \n",
        "1681      1682  Scream of Stone (Schrei aus Stein) (1991)  08-Mar-1996   \n",
        "\n",
        "      video_release_date                                           imdb_url  \n",
        "1677                 NaN  http://us.imdb.com/M/title-exact?Mat%27+i+syn+...  \n",
        "1678                 NaN  http://us.imdb.com/M/title-exact?B%2E+Monkey+(...  \n",
        "1679                 NaN      http://us.imdb.com/Title?Sliding+Doors+(1998)  \n",
        "1680                 NaN  http://us.imdb.com/M/title-exact?You%20So%20Cr...  \n",
        "1681                 NaN  http://us.imdb.com/M/title-exact?Schrei%20aus%...  "
       ]
      }
     ],
     "prompt_number": 7
    },
    {
     "cell_type": "code",
     "collapsed": false,
     "input": [
      "movies.head(3)"
     ],
     "language": "python",
     "metadata": {},
     "outputs": [
      {
       "html": [
        "<div style=\"max-height:1000px;max-width:1500px;overflow:auto;\">\n",
        "<table border=\"1\" class=\"dataframe\">\n",
        "  <thead>\n",
        "    <tr style=\"text-align: right;\">\n",
        "      <th></th>\n",
        "      <th>movie_id</th>\n",
        "      <th>title</th>\n",
        "      <th>release_date</th>\n",
        "      <th>video_release_date</th>\n",
        "      <th>imdb_url</th>\n",
        "    </tr>\n",
        "  </thead>\n",
        "  <tbody>\n",
        "    <tr>\n",
        "      <th>0</th>\n",
        "      <td> 1</td>\n",
        "      <td>  Toy Story (1995)</td>\n",
        "      <td> 01-Jan-1995</td>\n",
        "      <td>NaN</td>\n",
        "      <td> http://us.imdb.com/M/title-exact?Toy%20Story%2...</td>\n",
        "    </tr>\n",
        "    <tr>\n",
        "      <th>1</th>\n",
        "      <td> 2</td>\n",
        "      <td>  GoldenEye (1995)</td>\n",
        "      <td> 01-Jan-1995</td>\n",
        "      <td>NaN</td>\n",
        "      <td> http://us.imdb.com/M/title-exact?GoldenEye%20(...</td>\n",
        "    </tr>\n",
        "    <tr>\n",
        "      <th>2</th>\n",
        "      <td> 3</td>\n",
        "      <td> Four Rooms (1995)</td>\n",
        "      <td> 01-Jan-1995</td>\n",
        "      <td>NaN</td>\n",
        "      <td> http://us.imdb.com/M/title-exact?Four%20Rooms%...</td>\n",
        "    </tr>\n",
        "  </tbody>\n",
        "</table>\n",
        "</div>"
       ],
       "metadata": {},
       "output_type": "pyout",
       "prompt_number": 17,
       "text": [
        "   movie_id              title release_date  video_release_date  \\\n",
        "0         1   Toy Story (1995)  01-Jan-1995                 NaN   \n",
        "1         2   GoldenEye (1995)  01-Jan-1995                 NaN   \n",
        "2         3  Four Rooms (1995)  01-Jan-1995                 NaN   \n",
        "\n",
        "                                            imdb_url  \n",
        "0  http://us.imdb.com/M/title-exact?Toy%20Story%2...  \n",
        "1  http://us.imdb.com/M/title-exact?GoldenEye%20(...  \n",
        "2  http://us.imdb.com/M/title-exact?Four%20Rooms%...  "
       ]
      }
     ],
     "prompt_number": 17
    },
    {
     "cell_type": "code",
     "collapsed": false,
     "input": [
      "movies[50:55]"
     ],
     "language": "python",
     "metadata": {},
     "outputs": [
      {
       "html": [
        "<div style=\"max-height:1000px;max-width:1500px;overflow:auto;\">\n",
        "<table border=\"1\" class=\"dataframe\">\n",
        "  <thead>\n",
        "    <tr style=\"text-align: right;\">\n",
        "      <th></th>\n",
        "      <th>movie_id</th>\n",
        "      <th>title</th>\n",
        "      <th>release_date</th>\n",
        "      <th>video_release_date</th>\n",
        "      <th>imdb_url</th>\n",
        "    </tr>\n",
        "  </thead>\n",
        "  <tbody>\n",
        "    <tr>\n",
        "      <th>50</th>\n",
        "      <td> 51</td>\n",
        "      <td>         Legends of the Fall (1994)</td>\n",
        "      <td> 01-Jan-1994</td>\n",
        "      <td>NaN</td>\n",
        "      <td> http://us.imdb.com/M/title-exact?Legends%20of%...</td>\n",
        "    </tr>\n",
        "    <tr>\n",
        "      <th>51</th>\n",
        "      <td> 52</td>\n",
        "      <td> Madness of King George, The (1994)</td>\n",
        "      <td> 01-Jan-1994</td>\n",
        "      <td>NaN</td>\n",
        "      <td> http://us.imdb.com/M/title-exact?Madness%20of%...</td>\n",
        "    </tr>\n",
        "    <tr>\n",
        "      <th>52</th>\n",
        "      <td> 53</td>\n",
        "      <td>        Natural Born Killers (1994)</td>\n",
        "      <td> 01-Jan-1994</td>\n",
        "      <td>NaN</td>\n",
        "      <td> http://us.imdb.com/M/title-exact?Natural%20Bor...</td>\n",
        "    </tr>\n",
        "    <tr>\n",
        "      <th>53</th>\n",
        "      <td> 54</td>\n",
        "      <td>                    Outbreak (1995)</td>\n",
        "      <td> 01-Jan-1995</td>\n",
        "      <td>NaN</td>\n",
        "      <td> http://us.imdb.com/M/title-exact?Outbreak%20(1...</td>\n",
        "    </tr>\n",
        "    <tr>\n",
        "      <th>54</th>\n",
        "      <td> 55</td>\n",
        "      <td>           Professional, The (1994)</td>\n",
        "      <td> 01-Jan-1994</td>\n",
        "      <td>NaN</td>\n",
        "      <td>            http://us.imdb.com/Title?L%E9on+(1994)</td>\n",
        "    </tr>\n",
        "  </tbody>\n",
        "</table>\n",
        "</div>"
       ],
       "metadata": {},
       "output_type": "pyout",
       "prompt_number": 8,
       "text": [
        "    movie_id                               title release_date  \\\n",
        "50        51          Legends of the Fall (1994)  01-Jan-1994   \n",
        "51        52  Madness of King George, The (1994)  01-Jan-1994   \n",
        "52        53         Natural Born Killers (1994)  01-Jan-1994   \n",
        "53        54                     Outbreak (1995)  01-Jan-1995   \n",
        "54        55            Professional, The (1994)  01-Jan-1994   \n",
        "\n",
        "    video_release_date                                           imdb_url  \n",
        "50                 NaN  http://us.imdb.com/M/title-exact?Legends%20of%...  \n",
        "51                 NaN  http://us.imdb.com/M/title-exact?Madness%20of%...  \n",
        "52                 NaN  http://us.imdb.com/M/title-exact?Natural%20Bor...  \n",
        "53                 NaN  http://us.imdb.com/M/title-exact?Outbreak%20(1...  \n",
        "54                 NaN             http://us.imdb.com/Title?L%E9on+(1994)  "
       ]
      }
     ],
     "prompt_number": 8
    },
    {
     "cell_type": "code",
     "collapsed": false,
     "input": [
      "movies['title'].head()"
     ],
     "language": "python",
     "metadata": {},
     "outputs": [
      {
       "metadata": {},
       "output_type": "pyout",
       "prompt_number": 18,
       "text": [
        "0     Toy Story (1995)\n",
        "1     GoldenEye (1995)\n",
        "2    Four Rooms (1995)\n",
        "3    Get Shorty (1995)\n",
        "4       Copycat (1995)\n",
        "Name: title, dtype: object"
       ]
      }
     ],
     "prompt_number": 18
    },
    {
     "cell_type": "code",
     "collapsed": false,
     "input": [
      "movies[['title', 'release_date', 'imdb_url']].head()"
     ],
     "language": "python",
     "metadata": {},
     "outputs": [
      {
       "html": [
        "<div style=\"max-height:1000px;max-width:1500px;overflow:auto;\">\n",
        "<table border=\"1\" class=\"dataframe\">\n",
        "  <thead>\n",
        "    <tr style=\"text-align: right;\">\n",
        "      <th></th>\n",
        "      <th>title</th>\n",
        "      <th>release_date</th>\n",
        "      <th>imdb_url</th>\n",
        "    </tr>\n",
        "  </thead>\n",
        "  <tbody>\n",
        "    <tr>\n",
        "      <th>0</th>\n",
        "      <td>  Toy Story (1995)</td>\n",
        "      <td> 01-Jan-1995</td>\n",
        "      <td> http://us.imdb.com/M/title-exact?Toy%20Story%2...</td>\n",
        "    </tr>\n",
        "    <tr>\n",
        "      <th>1</th>\n",
        "      <td>  GoldenEye (1995)</td>\n",
        "      <td> 01-Jan-1995</td>\n",
        "      <td> http://us.imdb.com/M/title-exact?GoldenEye%20(...</td>\n",
        "    </tr>\n",
        "    <tr>\n",
        "      <th>2</th>\n",
        "      <td> Four Rooms (1995)</td>\n",
        "      <td> 01-Jan-1995</td>\n",
        "      <td> http://us.imdb.com/M/title-exact?Four%20Rooms%...</td>\n",
        "    </tr>\n",
        "    <tr>\n",
        "      <th>3</th>\n",
        "      <td> Get Shorty (1995)</td>\n",
        "      <td> 01-Jan-1995</td>\n",
        "      <td> http://us.imdb.com/M/title-exact?Get%20Shorty%...</td>\n",
        "    </tr>\n",
        "    <tr>\n",
        "      <th>4</th>\n",
        "      <td>    Copycat (1995)</td>\n",
        "      <td> 01-Jan-1995</td>\n",
        "      <td> http://us.imdb.com/M/title-exact?Copycat%20(1995)</td>\n",
        "    </tr>\n",
        "  </tbody>\n",
        "</table>\n",
        "</div>"
       ],
       "metadata": {},
       "output_type": "pyout",
       "prompt_number": 9,
       "text": [
        "               title release_date  \\\n",
        "0   Toy Story (1995)  01-Jan-1995   \n",
        "1   GoldenEye (1995)  01-Jan-1995   \n",
        "2  Four Rooms (1995)  01-Jan-1995   \n",
        "3  Get Shorty (1995)  01-Jan-1995   \n",
        "4     Copycat (1995)  01-Jan-1995   \n",
        "\n",
        "                                            imdb_url  \n",
        "0  http://us.imdb.com/M/title-exact?Toy%20Story%2...  \n",
        "1  http://us.imdb.com/M/title-exact?GoldenEye%20(...  \n",
        "2  http://us.imdb.com/M/title-exact?Four%20Rooms%...  \n",
        "3  http://us.imdb.com/M/title-exact?Get%20Shorty%...  \n",
        "4  http://us.imdb.com/M/title-exact?Copycat%20(1995)  "
       ]
      }
     ],
     "prompt_number": 9
    },
    {
     "cell_type": "code",
     "collapsed": false,
     "input": [
      "movies[movies.title == 'Toy Story (1995)']"
     ],
     "language": "python",
     "metadata": {},
     "outputs": [
      {
       "html": [
        "<div style=\"max-height:1000px;max-width:1500px;overflow:auto;\">\n",
        "<table border=\"1\" class=\"dataframe\">\n",
        "  <thead>\n",
        "    <tr style=\"text-align: right;\">\n",
        "      <th></th>\n",
        "      <th>movie_id</th>\n",
        "      <th>title</th>\n",
        "      <th>release_date</th>\n",
        "      <th>video_release_date</th>\n",
        "      <th>imdb_url</th>\n",
        "    </tr>\n",
        "  </thead>\n",
        "  <tbody>\n",
        "    <tr>\n",
        "      <th>0</th>\n",
        "      <td> 1</td>\n",
        "      <td> Toy Story (1995)</td>\n",
        "      <td> 01-Jan-1995</td>\n",
        "      <td>NaN</td>\n",
        "      <td> http://us.imdb.com/M/title-exact?Toy%20Story%2...</td>\n",
        "    </tr>\n",
        "  </tbody>\n",
        "</table>\n",
        "</div>"
       ],
       "metadata": {},
       "output_type": "pyout",
       "prompt_number": 10,
       "text": [
        "   movie_id             title release_date  video_release_date  \\\n",
        "0         1  Toy Story (1995)  01-Jan-1995                 NaN   \n",
        "\n",
        "                                            imdb_url  \n",
        "0  http://us.imdb.com/M/title-exact?Toy%20Story%2...  "
       ]
      }
     ],
     "prompt_number": 10
    },
    {
     "cell_type": "code",
     "collapsed": false,
     "input": [
      "movies.query('title==\"Toy Story (1995)\"')"
     ],
     "language": "python",
     "metadata": {},
     "outputs": [
      {
       "html": [
        "<div style=\"max-height:1000px;max-width:1500px;overflow:auto;\">\n",
        "<table border=\"1\" class=\"dataframe\">\n",
        "  <thead>\n",
        "    <tr style=\"text-align: right;\">\n",
        "      <th></th>\n",
        "      <th>movie_id</th>\n",
        "      <th>title</th>\n",
        "      <th>release_date</th>\n",
        "      <th>video_release_date</th>\n",
        "      <th>imdb_url</th>\n",
        "    </tr>\n",
        "  </thead>\n",
        "  <tbody>\n",
        "    <tr>\n",
        "      <th>0</th>\n",
        "      <td> 1</td>\n",
        "      <td> Toy Story (1995)</td>\n",
        "      <td> 01-Jan-1995</td>\n",
        "      <td>NaN</td>\n",
        "      <td> http://us.imdb.com/M/title-exact?Toy%20Story%2...</td>\n",
        "    </tr>\n",
        "  </tbody>\n",
        "</table>\n",
        "</div>"
       ],
       "metadata": {},
       "output_type": "pyout",
       "prompt_number": 11,
       "text": [
        "   movie_id             title release_date  video_release_date  \\\n",
        "0         1  Toy Story (1995)  01-Jan-1995                 NaN   \n",
        "\n",
        "                                            imdb_url  \n",
        "0  http://us.imdb.com/M/title-exact?Toy%20Story%2...  "
       ]
      }
     ],
     "prompt_number": 11
    }
   ],
   "metadata": {}
  }
 ]
}